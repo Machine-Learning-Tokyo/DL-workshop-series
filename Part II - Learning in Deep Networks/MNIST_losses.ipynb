{
  "nbformat": 4,
  "nbformat_minor": 0,
  "metadata": {
    "colab": {
      "name": "MNIST_losses.ipynb",
      "version": "0.3.2",
      "provenance": [],
      "collapsed_sections": [],
      "include_colab_link": true
    },
    "kernelspec": {
      "name": "python3",
      "display_name": "Python 3"
    },
    "accelerator": "GPU"
  },
  "cells": [
    {
      "cell_type": "markdown",
      "metadata": {
        "id": "view-in-github",
        "colab_type": "text"
      },
      "source": [
        "<a href=\"https://colab.research.google.com/github/Machine-Learning-Tokyo/DL-workshop-series/blob/master/Part%20II%20-%20Learning%20in%20Deep%20Networks/MNIST_losses.ipynb\" target=\"_parent\"><img src=\"https://colab.research.google.com/assets/colab-badge.svg\" alt=\"Open In Colab\"/></a>"
      ]
    },
    {
      "metadata": {
        "id": "yL8AT07v9E8P",
        "colab_type": "text"
      },
      "cell_type": "markdown",
      "source": [
        "## MNIST with different losses"
      ]
    },
    {
      "metadata": {
        "id": "ezqYRUvg4WeG",
        "colab_type": "code",
        "colab": {}
      },
      "cell_type": "code",
      "source": [
        "import keras\n",
        "from keras.models import Sequential\n",
        "from keras.layers import Flatten, Dense\n",
        "from keras.losses import *\n",
        "# losses source: https://github.com/tensorflow/tensorflow/blob/r1.12/tensorflow/python/keras/losses.py\n",
        "from keras.datasets import mnist\n",
        "from keras.utils import to_categorical\n",
        "import keras.backend as K"
      ],
      "execution_count": 0,
      "outputs": []
    },
    {
      "metadata": {
        "id": "K9gf_aC64kWW",
        "colab_type": "code",
        "colab": {}
      },
      "cell_type": "code",
      "source": [
        "%%capture\n",
        "(X_train, Y_train), (X_val, Y_val) = mnist.load_data()\n",
        "X_train, X_val = X_train / 255., X_val / .255\n",
        "Y_train, Y_val = to_categorical(Y_train), to_categorical(Y_val)"
      ],
      "execution_count": 0,
      "outputs": []
    },
    {
      "metadata": {
        "id": "TBjOQBlk7lSI",
        "colab_type": "code",
        "colab": {}
      },
      "cell_type": "code",
      "source": [
        "losses = categorical_crossentropy, mae, mse, hinge, categorical_hinge, cosine_similarity\n",
        "\n",
        "for loss in losses:\n",
        "  print('loss:', loss.__name__)\n",
        "  K.clear_session()\n",
        "  model = Sequential([Flatten(input_shape=(28, 28)),\n",
        "                      Dense(32, activation='relu'),\n",
        "                      Dense(10, activation='softmax')])\n",
        "\n",
        "  model.compile('sgd', loss, metrics=['acc'])\n",
        "  history = model.fit(X_train, Y_train, validation_data=(X_val, Y_val), epochs=5, verbose=2)\n",
        "  print('=========================\\n')"
      ],
      "execution_count": 0,
      "outputs": []
    }
  ]
}
